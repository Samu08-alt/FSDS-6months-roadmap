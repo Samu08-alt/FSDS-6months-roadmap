{
 "cells": [
  {
   "cell_type": "code",
   "execution_count": 3,
   "id": "f67385ee-e752-4765-9abe-3d7ad15c1dcf",
   "metadata": {},
   "outputs": [
    {
     "data": {
      "text/plain": [
       "[]"
      ]
     },
     "execution_count": 3,
     "metadata": {},
     "output_type": "execute_result"
    }
   ],
   "source": [
    "l = []\n",
    "l"
   ]
  },
  {
   "cell_type": "code",
   "execution_count": 7,
   "id": "aa44c945-2be0-416e-93be-54b1a3dbab71",
   "metadata": {},
   "outputs": [],
   "source": [
    "l.append(10)\n",
    "l.append(20),\n",
    "l.append(30),\n",
    "l.append(2.3), \n",
    "l.append(4.6), \n",
    "l.append('nit'),\n",
    "l.append(1 + 2j), \n",
    "l.append(True)"
   ]
  },
  {
   "cell_type": "code",
   "execution_count": 9,
   "id": "e7789307-5b93-4ba5-b7ce-be8b709affa9",
   "metadata": {},
   "outputs": [
    {
     "data": {
      "text/plain": [
       "[10, 20, 30, 2.3, 4.6, 'nit', (1+2j), True]"
      ]
     },
     "execution_count": 9,
     "metadata": {},
     "output_type": "execute_result"
    }
   ],
   "source": [
    "l"
   ]
  },
  {
   "cell_type": "code",
   "execution_count": 11,
   "id": "23d49927-3e5f-44a0-bc8a-9948506b80b7",
   "metadata": {},
   "outputs": [
    {
     "data": {
      "text/plain": [
       "8"
      ]
     },
     "execution_count": 11,
     "metadata": {},
     "output_type": "execute_result"
    }
   ],
   "source": [
    "len(l)"
   ]
  },
  {
   "cell_type": "code",
   "execution_count": 13,
   "id": "65f64103-9e88-4955-9048-62e57f46bc72",
   "metadata": {},
   "outputs": [
    {
     "data": {
      "text/plain": [
       "5"
      ]
     },
     "execution_count": 13,
     "metadata": {},
     "output_type": "execute_result"
    }
   ],
   "source": [
    "l.index('nit')"
   ]
  },
  {
   "cell_type": "code",
   "execution_count": 15,
   "id": "ce4a07ab-2ad6-42ef-8ba6-9ec5387ec66b",
   "metadata": {},
   "outputs": [
    {
     "data": {
      "text/plain": [
       "'nit'"
      ]
     },
     "execution_count": 15,
     "metadata": {},
     "output_type": "execute_result"
    }
   ],
   "source": [
    "l[5]"
   ]
  },
  {
   "cell_type": "code",
   "execution_count": 17,
   "id": "8689bf3d-4763-4a52-8fa3-f403523a60b6",
   "metadata": {},
   "outputs": [
    {
     "name": "stdout",
     "output_type": "stream",
     "text": [
      "n\n",
      "i\n",
      "t\n"
     ]
    }
   ],
   "source": [
    "print(l[5][0])\n",
    "print(l[5][1])\n",
    "print(l[5][2])"
   ]
  },
  {
   "cell_type": "code",
   "execution_count": 19,
   "id": "0785b8da-fdf1-4f73-85d8-b2df3e04a0be",
   "metadata": {},
   "outputs": [
    {
     "data": {
      "text/plain": [
       "True"
      ]
     },
     "execution_count": 19,
     "metadata": {},
     "output_type": "execute_result"
    }
   ],
   "source": [
    "l[-1]"
   ]
  },
  {
   "cell_type": "code",
   "execution_count": 21,
   "id": "10ed048c-8754-4786-85bf-2a784b4b18d3",
   "metadata": {},
   "outputs": [
    {
     "data": {
      "text/plain": [
       "[10, 20, 30, 2.3, 4.6, 'nit', (1+2j), True]"
      ]
     },
     "execution_count": 21,
     "metadata": {},
     "output_type": "execute_result"
    }
   ],
   "source": [
    "l"
   ]
  },
  {
   "cell_type": "code",
   "execution_count": 23,
   "id": "10520e82-c423-4b92-ad36-f514b6174507",
   "metadata": {},
   "outputs": [
    {
     "data": {
      "text/plain": [
       "20"
      ]
     },
     "execution_count": 23,
     "metadata": {},
     "output_type": "execute_result"
    }
   ],
   "source": [
    "l[1]"
   ]
  },
  {
   "cell_type": "code",
   "execution_count": 25,
   "id": "a34fec9f-33d6-425b-b31f-aa8ebfd193dd",
   "metadata": {},
   "outputs": [
    {
     "data": {
      "text/plain": [
       "[10, 20, 30, 2.3, 4.6, 'nit', (1+2j), True]"
      ]
     },
     "execution_count": 25,
     "metadata": {},
     "output_type": "execute_result"
    }
   ],
   "source": [
    "l"
   ]
  },
  {
   "cell_type": "code",
   "execution_count": 27,
   "id": "dd442275-32df-4793-8700-e0bbb019ede0",
   "metadata": {},
   "outputs": [
    {
     "name": "stdout",
     "output_type": "stream",
     "text": [
      "10\n",
      "20\n",
      "30\n",
      "2.3\n",
      "4.6\n",
      "nit\n",
      "(1+2j)\n",
      "True\n"
     ]
    }
   ],
   "source": [
    "for i in l:\n",
    "    print(i)"
   ]
  },
  {
   "cell_type": "code",
   "execution_count": 29,
   "id": "e601d248-b7f3-4188-a694-40b2b2796a2c",
   "metadata": {},
   "outputs": [
    {
     "data": {
      "text/plain": [
       "[10, 20, 30, 2.3, 4.6, 'nit', (1+2j), True]"
      ]
     },
     "execution_count": 29,
     "metadata": {},
     "output_type": "execute_result"
    }
   ],
   "source": [
    "l"
   ]
  },
  {
   "cell_type": "code",
   "execution_count": 31,
   "id": "46e3a479-de8c-477e-ae8f-7d7c25c04631",
   "metadata": {},
   "outputs": [
    {
     "data": {
      "text/plain": [
       "True"
      ]
     },
     "execution_count": 31,
     "metadata": {},
     "output_type": "execute_result"
    }
   ],
   "source": [
    "l.pop()"
   ]
  },
  {
   "cell_type": "code",
   "execution_count": 33,
   "id": "889abb15-98b5-4ee5-90fe-bd0533104d01",
   "metadata": {},
   "outputs": [
    {
     "data": {
      "text/plain": [
       "[10, 20, 30, 2.3, 4.6, 'nit', (1+2j)]"
      ]
     },
     "execution_count": 33,
     "metadata": {},
     "output_type": "execute_result"
    }
   ],
   "source": [
    "l"
   ]
  },
  {
   "cell_type": "code",
   "execution_count": 35,
   "id": "a71d77c3-6dd4-4d66-858a-684216cb306f",
   "metadata": {},
   "outputs": [
    {
     "data": {
      "text/plain": [
       "30"
      ]
     },
     "execution_count": 35,
     "metadata": {},
     "output_type": "execute_result"
    }
   ],
   "source": [
    "l.pop(2)"
   ]
  },
  {
   "cell_type": "code",
   "execution_count": 37,
   "id": "8c2a30b0-f513-4706-8bcf-6c16a78df448",
   "metadata": {},
   "outputs": [
    {
     "data": {
      "text/plain": [
       "[10, 20, 2.3, 4.6, 'nit', (1+2j)]"
      ]
     },
     "execution_count": 37,
     "metadata": {},
     "output_type": "execute_result"
    }
   ],
   "source": [
    "l"
   ]
  },
  {
   "cell_type": "code",
   "execution_count": 39,
   "id": "17730dda-1efd-472d-b3c4-aea163b2b2fe",
   "metadata": {},
   "outputs": [],
   "source": [
    "l.remove(1+2j)"
   ]
  },
  {
   "cell_type": "code",
   "execution_count": 41,
   "id": "ace71476-80a0-47f2-adac-e3d6555ea389",
   "metadata": {},
   "outputs": [
    {
     "data": {
      "text/plain": [
       "[10, 20, 2.3, 4.6, 'nit']"
      ]
     },
     "execution_count": 41,
     "metadata": {},
     "output_type": "execute_result"
    }
   ],
   "source": [
    "l"
   ]
  },
  {
   "cell_type": "code",
   "execution_count": 43,
   "id": "6e00f534-b739-4b9c-a439-4fdd3b827b7b",
   "metadata": {},
   "outputs": [],
   "source": [
    "l.insert(1, 15)"
   ]
  },
  {
   "cell_type": "code",
   "execution_count": 45,
   "id": "b6e9fd1a-779b-4edf-b23e-fe1d18ca2db2",
   "metadata": {},
   "outputs": [
    {
     "data": {
      "text/plain": [
       "[10, 15, 20, 2.3, 4.6, 'nit']"
      ]
     },
     "execution_count": 45,
     "metadata": {},
     "output_type": "execute_result"
    }
   ],
   "source": [
    "l"
   ]
  },
  {
   "cell_type": "code",
   "execution_count": 47,
   "id": "71a80b82-01d8-417c-9486-a869652c4bc2",
   "metadata": {},
   "outputs": [],
   "source": [
    "l1 = l.copy()"
   ]
  },
  {
   "cell_type": "code",
   "execution_count": 50,
   "id": "220fee5a-b8ec-4985-8439-103bd3707d93",
   "metadata": {},
   "outputs": [
    {
     "data": {
      "text/plain": [
       "[10, 15, 20, 2.3, 4.6, 'nit']"
      ]
     },
     "execution_count": 50,
     "metadata": {},
     "output_type": "execute_result"
    }
   ],
   "source": [
    "l1"
   ]
  },
  {
   "cell_type": "code",
   "execution_count": 52,
   "id": "070f8947-2e5a-4cff-91c6-020087061dbb",
   "metadata": {},
   "outputs": [
    {
     "data": {
      "text/plain": [
       "True"
      ]
     },
     "execution_count": 52,
     "metadata": {},
     "output_type": "execute_result"
    }
   ],
   "source": [
    "l == l1"
   ]
  },
  {
   "cell_type": "code",
   "execution_count": 54,
   "id": "f85b4911-0d1f-43a0-a982-b72170b0f90b",
   "metadata": {},
   "outputs": [
    {
     "data": {
      "text/plain": [
       "[2, 100, 3, 50, 9]"
      ]
     },
     "execution_count": 54,
     "metadata": {},
     "output_type": "execute_result"
    }
   ],
   "source": [
    "l3 = [2, 100, 3, 50, 9]\n",
    "l3"
   ]
  },
  {
   "cell_type": "code",
   "execution_count": 56,
   "id": "646f6414-b16b-4aed-a6bf-510186fe172a",
   "metadata": {},
   "outputs": [],
   "source": [
    "l3.reverse()"
   ]
  },
  {
   "cell_type": "code",
   "execution_count": 58,
   "id": "1301142f-8d73-4caf-aa41-0aca06bd0be7",
   "metadata": {},
   "outputs": [
    {
     "data": {
      "text/plain": [
       "[9, 50, 3, 100, 2]"
      ]
     },
     "execution_count": 58,
     "metadata": {},
     "output_type": "execute_result"
    }
   ],
   "source": [
    "l3"
   ]
  },
  {
   "cell_type": "code",
   "execution_count": 60,
   "id": "113d3580-fa1a-4ee6-8cd0-e190873aeff6",
   "metadata": {},
   "outputs": [
    {
     "data": {
      "text/plain": [
       "[9, 50, 3, 100, 2]"
      ]
     },
     "execution_count": 60,
     "metadata": {},
     "output_type": "execute_result"
    }
   ],
   "source": [
    "l3"
   ]
  },
  {
   "cell_type": "code",
   "execution_count": 62,
   "id": "8f18867b-fa75-493d-ba3c-52a95b51e3e0",
   "metadata": {},
   "outputs": [],
   "source": [
    "l3.sort()"
   ]
  },
  {
   "cell_type": "code",
   "execution_count": 64,
   "id": "9ab480dc-c99e-438c-b89e-2330ed73a17a",
   "metadata": {},
   "outputs": [
    {
     "data": {
      "text/plain": [
       "[2, 3, 9, 50, 100]"
      ]
     },
     "execution_count": 64,
     "metadata": {},
     "output_type": "execute_result"
    }
   ],
   "source": [
    "l3"
   ]
  },
  {
   "cell_type": "code",
   "execution_count": 67,
   "id": "dee18549-1c9d-4fbe-b407-a7aae669c5ac",
   "metadata": {},
   "outputs": [],
   "source": [
    "l3.sort(reverse=True)"
   ]
  },
  {
   "cell_type": "code",
   "execution_count": 69,
   "id": "266ded9c-3b90-48dc-b3e8-318066f19af4",
   "metadata": {},
   "outputs": [
    {
     "data": {
      "text/plain": [
       "[100, 50, 9, 3, 2]"
      ]
     },
     "execution_count": 69,
     "metadata": {},
     "output_type": "execute_result"
    }
   ],
   "source": [
    "l3"
   ]
  },
  {
   "cell_type": "code",
   "execution_count": 71,
   "id": "2d4d5c65-5fbd-4a83-976a-6605770498c0",
   "metadata": {},
   "outputs": [],
   "source": [
    "l3.sort(reverse=False)"
   ]
  },
  {
   "cell_type": "code",
   "execution_count": 73,
   "id": "debb4526-9fca-400e-8d86-a9330c8977d9",
   "metadata": {},
   "outputs": [
    {
     "data": {
      "text/plain": [
       "[2, 3, 9, 50, 100]"
      ]
     },
     "execution_count": 73,
     "metadata": {},
     "output_type": "execute_result"
    }
   ],
   "source": [
    "l3"
   ]
  },
  {
   "cell_type": "code",
   "execution_count": 75,
   "id": "bbd66166-f49b-454f-b309-26a375bfb3f1",
   "metadata": {},
   "outputs": [
    {
     "data": {
      "text/plain": [
       "[2, 3, 9, 50, 100]"
      ]
     },
     "execution_count": 75,
     "metadata": {},
     "output_type": "execute_result"
    }
   ],
   "source": [
    "l3"
   ]
  },
  {
   "cell_type": "code",
   "execution_count": 79,
   "id": "76669900-18ac-4ce7-842a-f726be2cd37b",
   "metadata": {},
   "outputs": [],
   "source": [
    "l3.extend(l)"
   ]
  },
  {
   "cell_type": "code",
   "execution_count": 81,
   "id": "a9d63b5b-ba99-49bb-b4f3-91f193a97060",
   "metadata": {},
   "outputs": [
    {
     "data": {
      "text/plain": [
       "[10, 15, 20, 2.3, 4.6, 'nit']"
      ]
     },
     "execution_count": 81,
     "metadata": {},
     "output_type": "execute_result"
    }
   ],
   "source": [
    "l"
   ]
  },
  {
   "cell_type": "code",
   "execution_count": 85,
   "id": "2979baa6-107e-41dc-a54b-998d919c6e4b",
   "metadata": {},
   "outputs": [
    {
     "data": {
      "text/plain": [
       "[2, 3, 9, 50, 100, 10, 15, 20, 2.3, 4.6, 'nit']"
      ]
     },
     "execution_count": 85,
     "metadata": {},
     "output_type": "execute_result"
    }
   ],
   "source": [
    "l3"
   ]
  },
  {
   "cell_type": "code",
   "execution_count": 89,
   "id": "4fdbb947-9802-4853-af6a-761de36db71a",
   "metadata": {},
   "outputs": [
    {
     "data": {
      "text/plain": [
       "True"
      ]
     },
     "execution_count": 89,
     "metadata": {},
     "output_type": "execute_result"
    }
   ],
   "source": [
    "2 in l3"
   ]
  },
  {
   "cell_type": "code",
   "execution_count": 91,
   "id": "85df05e8-317b-461e-a4a3-effbafb2cc9d",
   "metadata": {},
   "outputs": [
    {
     "data": {
      "text/plain": [
       "False"
      ]
     },
     "execution_count": 91,
     "metadata": {},
     "output_type": "execute_result"
    }
   ],
   "source": [
    "200 in l3"
   ]
  },
  {
   "cell_type": "code",
   "execution_count": 93,
   "id": "4513751f-77bf-478e-a6c1-6767180c084c",
   "metadata": {},
   "outputs": [
    {
     "data": {
      "text/plain": [
       "[2, 3, 9, 50, 100, 10, 15, 20, 2.3, 4.6, 'nit']"
      ]
     },
     "execution_count": 93,
     "metadata": {},
     "output_type": "execute_result"
    }
   ],
   "source": [
    "l3"
   ]
  },
  {
   "cell_type": "code",
   "execution_count": 95,
   "id": "4fe68a0f-5eb0-4722-a357-f3ffb01d93d5",
   "metadata": {},
   "outputs": [
    {
     "data": {
      "text/plain": [
       "[2, 3, 9, 50, 100, 10, 15, 20, 2.3, 4.6, 'nit']"
      ]
     },
     "execution_count": 95,
     "metadata": {},
     "output_type": "execute_result"
    }
   ],
   "source": [
    "l3[:]"
   ]
  },
  {
   "cell_type": "code",
   "execution_count": 97,
   "id": "52353d98-1ab5-46df-8161-a6ca4cdfb274",
   "metadata": {},
   "outputs": [
    {
     "data": {
      "text/plain": [
       "[100, 10, 15, 20, 2.3, 4.6, 'nit']"
      ]
     },
     "execution_count": 97,
     "metadata": {},
     "output_type": "execute_result"
    }
   ],
   "source": [
    "l3[4:] "
   ]
  },
  {
   "cell_type": "code",
   "execution_count": 99,
   "id": "1bedfa96-32cf-4964-bdea-05aeceb0bde8",
   "metadata": {},
   "outputs": [
    {
     "data": {
      "text/plain": [
       "[2, 3, 9, 50, 100, 10, 15, 20, 2.3, 4.6, 'nit']"
      ]
     },
     "execution_count": 99,
     "metadata": {},
     "output_type": "execute_result"
    }
   ],
   "source": [
    "l3"
   ]
  },
  {
   "cell_type": "code",
   "execution_count": 101,
   "id": "9df3ff1d-aca6-4a83-9aa2-61f53a85c8a1",
   "metadata": {},
   "outputs": [
    {
     "data": {
      "text/plain": [
       "[2, 3, 9, 50]"
      ]
     },
     "execution_count": 101,
     "metadata": {},
     "output_type": "execute_result"
    }
   ],
   "source": [
    "l3[:4] "
   ]
  },
  {
   "cell_type": "code",
   "execution_count": 103,
   "id": "06f7eafa-c8a5-4cd0-af4d-0e8e43049a16",
   "metadata": {},
   "outputs": [
    {
     "data": {
      "text/plain": [
       "[2, 3, 9, 50, 100, 10, 15, 20, 2.3, 4.6, 'nit']"
      ]
     },
     "execution_count": 103,
     "metadata": {},
     "output_type": "execute_result"
    }
   ],
   "source": [
    "l3"
   ]
  },
  {
   "cell_type": "code",
   "execution_count": 105,
   "id": "efc46016-1acf-4f45-9909-35060acdc504",
   "metadata": {},
   "outputs": [
    {
     "data": {
      "text/plain": [
       "[2, 3, 9, 50, 100, 10, 15]"
      ]
     },
     "execution_count": 105,
     "metadata": {},
     "output_type": "execute_result"
    }
   ],
   "source": [
    "l3[:7] "
   ]
  },
  {
   "cell_type": "code",
   "execution_count": 109,
   "id": "b1979c15-71a3-4125-9af4-72959e7f9118",
   "metadata": {},
   "outputs": [
    {
     "data": {
      "text/plain": [
       "[10, 15, 20, 2.3, 4.6, 'nit']"
      ]
     },
     "execution_count": 109,
     "metadata": {},
     "output_type": "execute_result"
    }
   ],
   "source": [
    "l"
   ]
  },
  {
   "cell_type": "code",
   "execution_count": 111,
   "id": "81793d8f-ea99-46f2-ab40-44c9e300006d",
   "metadata": {},
   "outputs": [
    {
     "ename": "IndexError",
     "evalue": "list index out of range",
     "output_type": "error",
     "traceback": [
      "\u001b[1;31m---------------------------------------------------------------------------\u001b[0m",
      "\u001b[1;31mIndexError\u001b[0m                                Traceback (most recent call last)",
      "Cell \u001b[1;32mIn[111], line 1\u001b[0m\n\u001b[1;32m----> 1\u001b[0m l[\u001b[38;5;241m10\u001b[39m]\n",
      "\u001b[1;31mIndexError\u001b[0m: list index out of range"
     ]
    }
   ],
   "source": [
    "l[10] "
   ]
  },
  {
   "cell_type": "code",
   "execution_count": 113,
   "id": "bdf4160a-a729-46ac-9020-df76ec99c255",
   "metadata": {},
   "outputs": [
    {
     "data": {
      "text/plain": [
       "[10, 15, 20, 2.3, 4.6, 'nit']"
      ]
     },
     "execution_count": 113,
     "metadata": {},
     "output_type": "execute_result"
    }
   ],
   "source": [
    "l"
   ]
  },
  {
   "cell_type": "code",
   "execution_count": 115,
   "id": "074742da-2f01-43e3-9603-a00df7f70893",
   "metadata": {},
   "outputs": [
    {
     "data": {
      "text/plain": [
       "[]"
      ]
     },
     "execution_count": 115,
     "metadata": {},
     "output_type": "execute_result"
    }
   ],
   "source": [
    "l[10:] "
   ]
  },
  {
   "cell_type": "code",
   "execution_count": 117,
   "id": "87baf4ea-d258-4927-82a1-05fbdfc69551",
   "metadata": {},
   "outputs": [
    {
     "data": {
      "text/plain": [
       "[10, 15, 20, 2.3, 4.6, 'nit']"
      ]
     },
     "execution_count": 117,
     "metadata": {},
     "output_type": "execute_result"
    }
   ],
   "source": [
    "l"
   ]
  },
  {
   "cell_type": "code",
   "execution_count": 119,
   "id": "13a8ba30-7018-418a-9864-26c06e1efdfa",
   "metadata": {},
   "outputs": [
    {
     "data": {
      "text/plain": [
       "[10, 15, 20, 2.3, 4.6, 'nit']"
      ]
     },
     "execution_count": 119,
     "metadata": {},
     "output_type": "execute_result"
    }
   ],
   "source": [
    "l[:10] "
   ]
  },
  {
   "cell_type": "code",
   "execution_count": 121,
   "id": "2c7bd186-9cf6-4e9f-9dec-b71ad48abd5e",
   "metadata": {},
   "outputs": [
    {
     "data": {
      "text/plain": [
       "[10, 15, 20, 2.3, 4.6, 'nit']"
      ]
     },
     "execution_count": 121,
     "metadata": {},
     "output_type": "execute_result"
    }
   ],
   "source": [
    "l"
   ]
  },
  {
   "cell_type": "code",
   "execution_count": 123,
   "id": "488c1d43-46c0-4344-ac9a-b0989a55bb6b",
   "metadata": {},
   "outputs": [],
   "source": [
    "l[-1] = 'mit'"
   ]
  },
  {
   "cell_type": "code",
   "execution_count": 125,
   "id": "d67d3f87-d30d-4a6d-bf8d-c735cfec1bbc",
   "metadata": {},
   "outputs": [
    {
     "data": {
      "text/plain": [
       "[10, 15, 20, 2.3, 4.6, 'mit']"
      ]
     },
     "execution_count": 125,
     "metadata": {},
     "output_type": "execute_result"
    }
   ],
   "source": [
    "l"
   ]
  },
  {
   "cell_type": "code",
   "execution_count": null,
   "id": "e682ab21-cb2d-462b-b67c-bf3b3042c1dd",
   "metadata": {},
   "outputs": [],
   "source": [
    "# list has completed "
   ]
  },
  {
   "cell_type": "code",
   "execution_count": null,
   "id": "a52839f5-ca52-4a64-b70d-27f9ba68b5f6",
   "metadata": {},
   "outputs": [],
   "source": []
  },
  {
   "cell_type": "code",
   "execution_count": 127,
   "id": "581d76fe-9d96-4b6d-9a25-5e9c34bbdc0a",
   "metadata": {},
   "outputs": [
    {
     "name": "stdout",
     "output_type": "stream",
     "text": [
      "5\n",
      "-1\n"
     ]
    }
   ],
   "source": [
    "#!!!!!21 may 2025\n",
    "\n",
    "a=2\n",
    "b=3\n",
    "print (a+b)\n",
    "print (a-b)"
   ]
  },
  {
   "cell_type": "code",
   "execution_count": 129,
   "id": "a22e63b6-818c-404c-8aa8-8a3bfeb06ff7",
   "metadata": {},
   "outputs": [
    {
     "data": {
      "text/plain": [
       "[1, 2, 3]"
      ]
     },
     "execution_count": 129,
     "metadata": {},
     "output_type": "execute_result"
    }
   ],
   "source": [
    "l = [1,2,3]\n",
    "l"
   ]
  },
  {
   "cell_type": "code",
   "execution_count": 131,
   "id": "70c0a5d4-955b-42aa-8f53-23af97014c1d",
   "metadata": {},
   "outputs": [
    {
     "data": {
      "text/plain": [
       "[1, 2, 3]"
      ]
     },
     "execution_count": 131,
     "metadata": {},
     "output_type": "execute_result"
    }
   ],
   "source": [
    "l.sort()\n",
    "l"
   ]
  },
  {
   "cell_type": "code",
   "execution_count": 133,
   "id": "5551f314-74ca-48ee-92d2-be30ca926c0d",
   "metadata": {},
   "outputs": [
    {
     "data": {
      "text/plain": [
       "[20, 9, 3, 100]"
      ]
     },
     "execution_count": 133,
     "metadata": {},
     "output_type": "execute_result"
    }
   ],
   "source": [
    "l1 =[20,9,3,100]\n",
    "l1"
   ]
  },
  {
   "cell_type": "raw",
   "id": "ef84d020-7b2b-4a9a-84f9-b57bed484f8d",
   "metadata": {},
   "source": [
    "l1.sort()\n",
    "l1"
   ]
  },
  {
   "cell_type": "code",
   "execution_count": 135,
   "id": "a3a6b1de-8967-4a23-8c45-6a2337596869",
   "metadata": {},
   "outputs": [
    {
     "data": {
      "text/plain": [
       "[3, 9, 20, 100]"
      ]
     },
     "execution_count": 135,
     "metadata": {},
     "output_type": "execute_result"
    }
   ],
   "source": [
    "l1.sort()\n",
    "l1"
   ]
  },
  {
   "cell_type": "code",
   "execution_count": 137,
   "id": "bf7029f0-90a2-4ac0-b708-467b598b12d7",
   "metadata": {},
   "outputs": [
    {
     "data": {
      "text/plain": [
       "['a', 3, 3.5, (1+2j)]"
      ]
     },
     "execution_count": 137,
     "metadata": {},
     "output_type": "execute_result"
    }
   ],
   "source": [
    "l2 = ['a',3,3.5,1+2j]\n",
    "l2"
   ]
  },
  {
   "cell_type": "code",
   "execution_count": 139,
   "id": "19a3cce6-2549-4fb9-98a0-5c7abe2ed2a5",
   "metadata": {},
   "outputs": [
    {
     "ename": "TypeError",
     "evalue": "'<' not supported between instances of 'int' and 'str'",
     "output_type": "error",
     "traceback": [
      "\u001b[1;31m---------------------------------------------------------------------------\u001b[0m",
      "\u001b[1;31mTypeError\u001b[0m                                 Traceback (most recent call last)",
      "Cell \u001b[1;32mIn[139], line 1\u001b[0m\n\u001b[1;32m----> 1\u001b[0m l2\u001b[38;5;241m.\u001b[39msort()\n\u001b[0;32m      2\u001b[0m l2\n",
      "\u001b[1;31mTypeError\u001b[0m: '<' not supported between instances of 'int' and 'str'"
     ]
    }
   ],
   "source": [
    "l2.sort()\n",
    "l2"
   ]
  },
  {
   "cell_type": "code",
   "execution_count": 141,
   "id": "c93f9dd5-7895-4cd9-b104-017b1f7f9f2b",
   "metadata": {},
   "outputs": [
    {
     "data": {
      "text/plain": [
       "['z', 'm', 'a', 'd']"
      ]
     },
     "execution_count": 141,
     "metadata": {},
     "output_type": "execute_result"
    }
   ],
   "source": [
    "l3 =['z','m','a','d']\n",
    "l3"
   ]
  },
  {
   "cell_type": "code",
   "execution_count": 147,
   "id": "98d5b4b8-7e30-45ab-9fb4-9ddd3a6a852c",
   "metadata": {},
   "outputs": [
    {
     "data": {
      "text/plain": [
       "['a', 'd', 'm', 'z']"
      ]
     },
     "execution_count": 147,
     "metadata": {},
     "output_type": "execute_result"
    }
   ],
   "source": [
    "l3.sort()\n",
    "l3"
   ]
  },
  {
   "cell_type": "code",
   "execution_count": 149,
   "id": "151b137b-ff6b-4e3e-831c-18c98a937f5d",
   "metadata": {},
   "outputs": [
    {
     "data": {
      "text/plain": [
       "['z', 'm', 'd', 'a']"
      ]
     },
     "execution_count": 149,
     "metadata": {},
     "output_type": "execute_result"
    }
   ],
   "source": [
    "l3.reverse()\n",
    "l3"
   ]
  },
  {
   "cell_type": "code",
   "execution_count": 151,
   "id": "2acf2c5a-f07b-42ed-80a8-8b862d346223",
   "metadata": {},
   "outputs": [
    {
     "data": {
      "text/plain": [
       "[3, 9, 20, 100]"
      ]
     },
     "execution_count": 151,
     "metadata": {},
     "output_type": "execute_result"
    }
   ],
   "source": [
    "l1"
   ]
  },
  {
   "cell_type": "code",
   "execution_count": 153,
   "id": "bceb8876-e72c-4755-80e1-5de374732833",
   "metadata": {},
   "outputs": [
    {
     "data": {
      "text/plain": [
       "[3, 9, 20, 100]"
      ]
     },
     "execution_count": 153,
     "metadata": {},
     "output_type": "execute_result"
    }
   ],
   "source": [
    "l1.sort()\n",
    "l1"
   ]
  },
  {
   "cell_type": "code",
   "execution_count": 155,
   "id": "08730709-0d34-45e8-b5f6-b4561fff45a4",
   "metadata": {},
   "outputs": [
    {
     "data": {
      "text/plain": [
       "[100, 20, 9, 3]"
      ]
     },
     "execution_count": 155,
     "metadata": {},
     "output_type": "execute_result"
    }
   ],
   "source": [
    "l1.sort(reverse=True)\n",
    "l1"
   ]
  },
  {
   "cell_type": "code",
   "execution_count": 157,
   "id": "44d37aa7-2c6f-4899-b712-291b58f7d49e",
   "metadata": {},
   "outputs": [
    {
     "data": {
      "text/plain": [
       "[1, 2, 3]"
      ]
     },
     "execution_count": 157,
     "metadata": {},
     "output_type": "execute_result"
    }
   ],
   "source": [
    "l"
   ]
  },
  {
   "cell_type": "code",
   "execution_count": 159,
   "id": "c4578243-c584-4e24-8aed-289162e6f46d",
   "metadata": {},
   "outputs": [
    {
     "data": {
      "text/plain": [
       "[1, 2, 3, 'nit']"
      ]
     },
     "execution_count": 159,
     "metadata": {},
     "output_type": "execute_result"
    }
   ],
   "source": [
    "l.append('nit')\n",
    "l"
   ]
  },
  {
   "cell_type": "code",
   "execution_count": 161,
   "id": "df470af4-5395-400c-802d-a0f21899de40",
   "metadata": {},
   "outputs": [
    {
     "data": {
      "text/plain": [
       "[1, 2, 3, 'nit']"
      ]
     },
     "execution_count": 161,
     "metadata": {},
     "output_type": "execute_result"
    }
   ],
   "source": [
    "l[3]\n",
    "l"
   ]
  },
  {
   "cell_type": "code",
   "execution_count": 165,
   "id": "e6ea115e-7cc6-4804-8699-55c682c804e0",
   "metadata": {},
   "outputs": [
    {
     "name": "stdout",
     "output_type": "stream",
     "text": [
      "n\n",
      "i\n"
     ]
    }
   ],
   "source": [
    "print(l[3][0])\n",
    "print(l[3][1])"
   ]
  },
  {
   "cell_type": "code",
   "execution_count": 167,
   "id": "f2a2a204-66aa-44f3-8cb3-691100e82b13",
   "metadata": {},
   "outputs": [
    {
     "name": "stdout",
     "output_type": "stream",
     "text": [
      "1\n",
      "2\n",
      "3\n",
      "nit\n"
     ]
    }
   ],
   "source": [
    "for i in l:\n",
    "    print(i)\n",
    "      "
   ]
  },
  {
   "cell_type": "code",
   "execution_count": 169,
   "id": "0567f2fa-9505-4195-b25f-652b9c538cac",
   "metadata": {},
   "outputs": [
    {
     "name": "stdout",
     "output_type": "stream",
     "text": [
      "(0, 1)\n",
      "(1, 2)\n",
      "(2, 3)\n",
      "(3, 'nit')\n"
     ]
    }
   ],
   "source": [
    "for i in enumerate (l):\n",
    "    print(i)"
   ]
  },
  {
   "cell_type": "code",
   "execution_count": 171,
   "id": "15f3c62c-b72c-4307-ac6b-efebdd82bca2",
   "metadata": {},
   "outputs": [
    {
     "data": {
      "text/plain": [
       "['z', 'm', 'd', 'a']"
      ]
     },
     "execution_count": 171,
     "metadata": {},
     "output_type": "execute_result"
    }
   ],
   "source": [
    "l3"
   ]
  },
  {
   "cell_type": "code",
   "execution_count": 173,
   "id": "c5e899f3-b613-4719-be7f-94a3668a3ccf",
   "metadata": {},
   "outputs": [
    {
     "name": "stdout",
     "output_type": "stream",
     "text": [
      "(0, 'z')\n",
      "(1, 'm')\n",
      "(2, 'd')\n",
      "(3, 'a')\n"
     ]
    }
   ],
   "source": [
    "for j in enumerate (l3):\n",
    "    print(j)"
   ]
  },
  {
   "cell_type": "markdown",
   "id": "856fe761-6e6e-4cfa-98c5-2b1aa09091b4",
   "metadata": {},
   "source": [
    "#list\n"
   ]
  },
  {
   "cell_type": "code",
   "execution_count": 175,
   "id": "fbce7b8e-df24-4871-a253-6cdbbc2039a6",
   "metadata": {},
   "outputs": [
    {
     "data": {
      "text/plain": [
       "[1, 2, 3, 'nit']"
      ]
     },
     "execution_count": 175,
     "metadata": {},
     "output_type": "execute_result"
    }
   ],
   "source": [
    "l"
   ]
  },
  {
   "cell_type": "code",
   "execution_count": 177,
   "id": "1d35d455-9d36-4a0f-884a-1a05ad94de50",
   "metadata": {},
   "outputs": [
    {
     "data": {
      "text/plain": [
       "True"
      ]
     },
     "execution_count": 177,
     "metadata": {},
     "output_type": "execute_result"
    }
   ],
   "source": [
    "all(l)"
   ]
  },
  {
   "cell_type": "code",
   "execution_count": 179,
   "id": "f7f4f570-abf6-4072-ace6-ad6f2515c4e5",
   "metadata": {},
   "outputs": [
    {
     "data": {
      "text/plain": [
       "True"
      ]
     },
     "execution_count": 179,
     "metadata": {},
     "output_type": "execute_result"
    }
   ],
   "source": [
    "any(l)"
   ]
  },
  {
   "cell_type": "code",
   "execution_count": 183,
   "id": "91a21bdc-bd97-4305-81c0-ef286ec3a090",
   "metadata": {},
   "outputs": [
    {
     "data": {
      "text/plain": [
       "[1, 2, 3, 'nit']"
      ]
     },
     "execution_count": 183,
     "metadata": {},
     "output_type": "execute_result"
    }
   ],
   "source": [
    "l"
   ]
  },
  {
   "cell_type": "code",
   "execution_count": 185,
   "id": "a9c0c4d1-b030-4fab-a9a5-007431b5f065",
   "metadata": {},
   "outputs": [],
   "source": [
    "l.append(0)"
   ]
  },
  {
   "cell_type": "code",
   "execution_count": 187,
   "id": "4d34ddfa-030c-4fce-9e54-55c37ab5dec6",
   "metadata": {},
   "outputs": [
    {
     "data": {
      "text/plain": [
       "[1, 2, 3, 'nit', 0]"
      ]
     },
     "execution_count": 187,
     "metadata": {},
     "output_type": "execute_result"
    }
   ],
   "source": [
    "l"
   ]
  },
  {
   "cell_type": "code",
   "execution_count": 189,
   "id": "8bf6766a-1f11-4790-b109-d18ed231058c",
   "metadata": {},
   "outputs": [
    {
     "data": {
      "text/plain": [
       "True"
      ]
     },
     "execution_count": 189,
     "metadata": {},
     "output_type": "execute_result"
    }
   ],
   "source": [
    "any(l)"
   ]
  },
  {
   "cell_type": "code",
   "execution_count": 191,
   "id": "c7a169f4-c4f6-4d08-b254-835fea29a922",
   "metadata": {},
   "outputs": [
    {
     "data": {
      "text/plain": [
       "()"
      ]
     },
     "execution_count": 191,
     "metadata": {},
     "output_type": "execute_result"
    }
   ],
   "source": [
    "#tuple\n",
    "t = ()\n",
    "t\n"
   ]
  },
  {
   "cell_type": "code",
   "execution_count": 195,
   "id": "aac66374-d48f-451d-b716-145280516b9c",
   "metadata": {},
   "outputs": [
    {
     "data": {
      "text/plain": [
       "tuple"
      ]
     },
     "execution_count": 195,
     "metadata": {},
     "output_type": "execute_result"
    }
   ],
   "source": [
    "type(t)"
   ]
  },
  {
   "cell_type": "code",
   "execution_count": 197,
   "id": "bd017443-6faa-40a8-bec7-d044ed454a8d",
   "metadata": {},
   "outputs": [
    {
     "data": {
      "text/plain": [
       "(10, 20, 30, 40, 10)"
      ]
     },
     "execution_count": 197,
     "metadata": {},
     "output_type": "execute_result"
    }
   ],
   "source": [
    "t1=(10,20,30,40,10)\n",
    "t1"
   ]
  },
  {
   "cell_type": "code",
   "execution_count": 199,
   "id": "3a8de4a4-4620-451c-b54f-45e6374bc3b6",
   "metadata": {},
   "outputs": [
    {
     "ename": "AttributeError",
     "evalue": "'tuple' object has no attribute 'append'",
     "output_type": "error",
     "traceback": [
      "\u001b[1;31m---------------------------------------------------------------------------\u001b[0m",
      "\u001b[1;31mAttributeError\u001b[0m                            Traceback (most recent call last)",
      "Cell \u001b[1;32mIn[199], line 1\u001b[0m\n\u001b[1;32m----> 1\u001b[0m t1\u001b[38;5;241m.\u001b[39mappend()\n\u001b[0;32m      2\u001b[0m t1\n",
      "\u001b[1;31mAttributeError\u001b[0m: 'tuple' object has no attribute 'append'"
     ]
    }
   ],
   "source": [
    "t1.append()\n",
    "t1"
   ]
  },
  {
   "cell_type": "code",
   "execution_count": 203,
   "id": "31aa5840-7dc8-4d3a-919f-78ef2bc0b5ab",
   "metadata": {},
   "outputs": [
    {
     "data": {
      "text/plain": [
       "1"
      ]
     },
     "execution_count": 203,
     "metadata": {},
     "output_type": "execute_result"
    }
   ],
   "source": [
    "t1.index(20)\n"
   ]
  },
  {
   "cell_type": "code",
   "execution_count": 205,
   "id": "e76fb97d-988a-4e1a-96d9-829b3350c3ff",
   "metadata": {},
   "outputs": [
    {
     "data": {
      "text/plain": [
       "1"
      ]
     },
     "execution_count": 205,
     "metadata": {},
     "output_type": "execute_result"
    }
   ],
   "source": [
    "t1.count(20)"
   ]
  },
  {
   "cell_type": "code",
   "execution_count": 207,
   "id": "255327d4-0c84-45b5-a44d-4c1fbc9d9005",
   "metadata": {},
   "outputs": [
    {
     "ename": "AttributeError",
     "evalue": "'tuple' object has no attribute 'copy'",
     "output_type": "error",
     "traceback": [
      "\u001b[1;31m---------------------------------------------------------------------------\u001b[0m",
      "\u001b[1;31mAttributeError\u001b[0m                            Traceback (most recent call last)",
      "Cell \u001b[1;32mIn[207], line 1\u001b[0m\n\u001b[1;32m----> 1\u001b[0m t2 \u001b[38;5;241m=\u001b[39m t1\u001b[38;5;241m.\u001b[39mcopy()\n",
      "\u001b[1;31mAttributeError\u001b[0m: 'tuple' object has no attribute 'copy'"
     ]
    }
   ],
   "source": [
    "t2 = t1.copy()"
   ]
  },
  {
   "cell_type": "code",
   "execution_count": 215,
   "id": "08f4ca67-d0d4-4f0b-aac4-b88ab0184896",
   "metadata": {},
   "outputs": [
    {
     "data": {
      "text/plain": [
       "(10, 20, 30, 40, 10, 10, 20, 30, 40, 10)"
      ]
     },
     "execution_count": 215,
     "metadata": {},
     "output_type": "execute_result"
    }
   ],
   "source": [
    "t2 = t1*2\n",
    "t2\n"
   ]
  },
  {
   "cell_type": "code",
   "execution_count": 217,
   "id": "0eaedc02-1273-4659-967e-0bd8ffafdc95",
   "metadata": {},
   "outputs": [
    {
     "data": {
      "text/plain": [
       "(10, 20, 30, 40, 10)"
      ]
     },
     "execution_count": 217,
     "metadata": {},
     "output_type": "execute_result"
    }
   ],
   "source": [
    "t1"
   ]
  },
  {
   "cell_type": "code",
   "execution_count": 221,
   "id": "da4ae706-0dfd-4a8a-8e5f-d06fa2eaa05f",
   "metadata": {},
   "outputs": [
    {
     "data": {
      "text/plain": [
       "([1, 2, 3], 34, 0.3)"
      ]
     },
     "execution_count": 221,
     "metadata": {},
     "output_type": "execute_result"
    }
   ],
   "source": [
    "t2 = ([1,2,3],34,0.3)\n",
    "t2"
   ]
  },
  {
   "cell_type": "code",
   "execution_count": 227,
   "id": "1994b7cb-a2c0-4865-becf-07e038a632cb",
   "metadata": {},
   "outputs": [
    {
     "data": {
      "text/plain": [
       "(1, 2, 3, (2, 3))"
      ]
     },
     "execution_count": 227,
     "metadata": {},
     "output_type": "execute_result"
    }
   ],
   "source": [
    "t =(1,2,3,(2,3))\n",
    "t"
   ]
  },
  {
   "cell_type": "code",
   "execution_count": 229,
   "id": "7b524355-0c60-4db3-8321-4d0c3734900c",
   "metadata": {},
   "outputs": [
    {
     "data": {
      "text/plain": [
       "[1, 2, 3, 'nit', 0]"
      ]
     },
     "execution_count": 229,
     "metadata": {},
     "output_type": "execute_result"
    }
   ],
   "source": [
    "l"
   ]
  },
  {
   "cell_type": "code",
   "execution_count": 231,
   "id": "926d6abc-1261-4099-90f0-1bd5a739d015",
   "metadata": {},
   "outputs": [
    {
     "data": {
      "text/plain": [
       "[1, 2, (4, 5)]"
      ]
     },
     "execution_count": 231,
     "metadata": {},
     "output_type": "execute_result"
    }
   ],
   "source": [
    "l=[1,2,(4,5)]\n",
    "l"
   ]
  },
  {
   "cell_type": "code",
   "execution_count": 233,
   "id": "5e087db6-aac9-4ded-8075-4176ff9c4ee5",
   "metadata": {},
   "outputs": [
    {
     "data": {
      "text/plain": [
       "{}"
      ]
     },
     "execution_count": 233,
     "metadata": {},
     "output_type": "execute_result"
    }
   ],
   "source": [
    "#22 may 2025\n",
    "#set datastructure\n",
    "\n",
    "\n",
    "s = {}\n",
    "s\n",
    "\n",
    "\n"
   ]
  },
  {
   "cell_type": "code",
   "execution_count": 235,
   "id": "db7c024d-4ca5-49e2-bf4c-ab7932a43178",
   "metadata": {},
   "outputs": [
    {
     "data": {
      "text/plain": [
       "dict"
      ]
     },
     "execution_count": 235,
     "metadata": {},
     "output_type": "execute_result"
    }
   ],
   "source": [
    "type(s)"
   ]
  },
  {
   "cell_type": "code",
   "execution_count": 237,
   "id": "3429ccaf-31bc-49de-8527-1daba961b1b5",
   "metadata": {},
   "outputs": [
    {
     "data": {
      "text/plain": [
       "set()"
      ]
     },
     "execution_count": 237,
     "metadata": {},
     "output_type": "execute_result"
    }
   ],
   "source": [
    "s =set()\n",
    "s"
   ]
  },
  {
   "cell_type": "code",
   "execution_count": 239,
   "id": "7b145f25-08ba-4e76-9bbf-7a9ef5fbd7d3",
   "metadata": {},
   "outputs": [
    {
     "data": {
      "text/plain": [
       "set"
      ]
     },
     "execution_count": 239,
     "metadata": {},
     "output_type": "execute_result"
    }
   ],
   "source": [
    "type(s)"
   ]
  },
  {
   "cell_type": "code",
   "execution_count": 241,
   "id": "7ad84b17-2514-4f3b-8ee0-ad2047835160",
   "metadata": {},
   "outputs": [
    {
     "data": {
      "text/plain": [
       "{1, 3, 13, 47, 80, 90, 100}"
      ]
     },
     "execution_count": 241,
     "metadata": {},
     "output_type": "execute_result"
    }
   ],
   "source": [
    "s1 = {90,80,3,13,47,100,1}\n",
    "s1"
   ]
  },
  {
   "cell_type": "code",
   "execution_count": 243,
   "id": "253e4e89-f581-4eef-9a4e-11c2617936bc",
   "metadata": {},
   "outputs": [
    {
     "data": {
      "text/plain": [
       "{(1+2j), 2.3, 4, True, 'nit'}"
      ]
     },
     "execution_count": 243,
     "metadata": {},
     "output_type": "execute_result"
    }
   ],
   "source": [
    "s2 = {4,'nit',2.3,True,1+2j}\n",
    "s2"
   ]
  },
  {
   "cell_type": "code",
   "execution_count": 245,
   "id": "a1087a6c-259d-4607-bded-03cee16903cd",
   "metadata": {},
   "outputs": [
    {
     "data": {
      "text/plain": [
       "{1, 3, 13, 47, 80, 90, 100}"
      ]
     },
     "execution_count": 245,
     "metadata": {},
     "output_type": "execute_result"
    }
   ],
   "source": [
    "s1"
   ]
  },
  {
   "cell_type": "code",
   "execution_count": 247,
   "id": "34745ea5-97a5-4ece-bb2b-678797e78685",
   "metadata": {},
   "outputs": [],
   "source": [
    "s1.add(200)"
   ]
  },
  {
   "cell_type": "code",
   "execution_count": 249,
   "id": "43da43ad-fa52-4611-ab85-53c0a78728b1",
   "metadata": {},
   "outputs": [
    {
     "data": {
      "text/plain": [
       "{1, 3, 13, 47, 80, 90, 100, 200}"
      ]
     },
     "execution_count": 249,
     "metadata": {},
     "output_type": "execute_result"
    }
   ],
   "source": [
    "s1"
   ]
  },
  {
   "cell_type": "code",
   "execution_count": 251,
   "id": "abf5377a-0014-4d09-8ace-fbeed91cc2e3",
   "metadata": {},
   "outputs": [
    {
     "data": {
      "text/plain": [
       "{1, 3, 13, 47, 80, 90, 100, 200}"
      ]
     },
     "execution_count": 251,
     "metadata": {},
     "output_type": "execute_result"
    }
   ],
   "source": [
    "s1.add(100)\n",
    "s1"
   ]
  },
  {
   "cell_type": "code",
   "execution_count": 253,
   "id": "d053f830-594c-49fb-a216-83809d7fa83e",
   "metadata": {},
   "outputs": [
    {
     "data": {
      "text/plain": [
       "{1, 3, 13, 47, 80, 90, 100, 200}"
      ]
     },
     "execution_count": 253,
     "metadata": {},
     "output_type": "execute_result"
    }
   ],
   "source": [
    "s3 =s1.copy()\n",
    "s3"
   ]
  },
  {
   "cell_type": "code",
   "execution_count": 255,
   "id": "a028404d-01e2-4ef9-844b-8670fef4480c",
   "metadata": {},
   "outputs": [
    {
     "data": {
      "text/plain": [
       "True"
      ]
     },
     "execution_count": 255,
     "metadata": {},
     "output_type": "execute_result"
    }
   ],
   "source": [
    "s1 == s3"
   ]
  },
  {
   "cell_type": "code",
   "execution_count": 257,
   "id": "63862c0b-5089-4ad3-8003-36f489469a58",
   "metadata": {},
   "outputs": [
    {
     "data": {
      "text/plain": [
       "8"
      ]
     },
     "execution_count": 257,
     "metadata": {},
     "output_type": "execute_result"
    }
   ],
   "source": [
    "len(s3)"
   ]
  },
  {
   "cell_type": "code",
   "execution_count": 259,
   "id": "167c3281-854e-4d8e-84f6-c1f5c4b89be3",
   "metadata": {},
   "outputs": [
    {
     "data": {
      "text/plain": [
       "set()"
      ]
     },
     "execution_count": 259,
     "metadata": {},
     "output_type": "execute_result"
    }
   ],
   "source": [
    "s3.clear()\n",
    "s3"
   ]
  },
  {
   "cell_type": "code",
   "execution_count": 261,
   "id": "b12593d5-f48f-4e2c-99e0-0f6666fef503",
   "metadata": {},
   "outputs": [
    {
     "data": {
      "text/plain": [
       "0"
      ]
     },
     "execution_count": 261,
     "metadata": {},
     "output_type": "execute_result"
    }
   ],
   "source": [
    "len(s3)"
   ]
  },
  {
   "cell_type": "code",
   "execution_count": 267,
   "id": "03e0087d-0f20-4d4a-9437-b5e367a7cce0",
   "metadata": {},
   "outputs": [
    {
     "ename": "TypeError",
     "evalue": "'set' object is not subscriptable",
     "output_type": "error",
     "traceback": [
      "\u001b[1;31m---------------------------------------------------------------------------\u001b[0m",
      "\u001b[1;31mTypeError\u001b[0m                                 Traceback (most recent call last)",
      "Cell \u001b[1;32mIn[267], line 1\u001b[0m\n\u001b[1;32m----> 1\u001b[0m s1[:]\n",
      "\u001b[1;31mTypeError\u001b[0m: 'set' object is not subscriptable"
     ]
    }
   ],
   "source": [
    "#index and slicing is not allowed in the set \n",
    "s1[:]"
   ]
  },
  {
   "cell_type": "code",
   "execution_count": 269,
   "id": "138ade91-c2fc-4bfd-a262-566013e42fca",
   "metadata": {},
   "outputs": [
    {
     "data": {
      "text/plain": [
       "1"
      ]
     },
     "execution_count": 269,
     "metadata": {},
     "output_type": "execute_result"
    }
   ],
   "source": [
    "\n",
    "#in set pop element remove random value but in tuple and list pop element remove last value\n",
    "s1.pop()"
   ]
  },
  {
   "cell_type": "code",
   "execution_count": 271,
   "id": "e98a9894-057b-4138-b133-896d06961065",
   "metadata": {},
   "outputs": [
    {
     "data": {
      "text/plain": [
       "{3, 13, 47, 90, 100, 200}"
      ]
     },
     "execution_count": 271,
     "metadata": {},
     "output_type": "execute_result"
    }
   ],
   "source": [
    "s1"
   ]
  },
  {
   "cell_type": "code",
   "execution_count": 273,
   "id": "30aaa8b6-81b4-4790-8836-22b6512b251d",
   "metadata": {},
   "outputs": [
    {
     "ename": "TypeError",
     "evalue": "set.pop() takes no arguments (1 given)",
     "output_type": "error",
     "traceback": [
      "\u001b[1;31m---------------------------------------------------------------------------\u001b[0m",
      "\u001b[1;31mTypeError\u001b[0m                                 Traceback (most recent call last)",
      "Cell \u001b[1;32mIn[273], line 1\u001b[0m\n\u001b[1;32m----> 1\u001b[0m s1\u001b[38;5;241m.\u001b[39mpop(\u001b[38;5;241m1\u001b[39m)\n",
      "\u001b[1;31mTypeError\u001b[0m: set.pop() takes no arguments (1 given)"
     ]
    }
   ],
   "source": [
    "s1.pop(1)"
   ]
  },
  {
   "cell_type": "code",
   "execution_count": 277,
   "id": "8e7e96db-0c80-4cab-985e-730f7929ca2b",
   "metadata": {},
   "outputs": [
    {
     "data": {
      "text/plain": [
       "{3, 13, 47, 90, 100, 200}"
      ]
     },
     "execution_count": 277,
     "metadata": {},
     "output_type": "execute_result"
    }
   ],
   "source": [
    "s1"
   ]
  },
  {
   "cell_type": "code",
   "execution_count": 279,
   "id": "8593c4bb-c980-44d3-a550-0f892211b07a",
   "metadata": {},
   "outputs": [
    {
     "ename": "KeyError",
     "evalue": "1000",
     "output_type": "error",
     "traceback": [
      "\u001b[1;31m---------------------------------------------------------------------------\u001b[0m",
      "\u001b[1;31mKeyError\u001b[0m                                  Traceback (most recent call last)",
      "Cell \u001b[1;32mIn[279], line 1\u001b[0m\n\u001b[1;32m----> 1\u001b[0m s1\u001b[38;5;241m.\u001b[39mremove(\u001b[38;5;241m1000\u001b[39m)\n\u001b[0;32m      2\u001b[0m s1\n",
      "\u001b[1;31mKeyError\u001b[0m: 1000"
     ]
    }
   ],
   "source": [
    "s1.remove(1000)\n",
    "s1"
   ]
  },
  {
   "cell_type": "code",
   "execution_count": 281,
   "id": "ce1865ed-8e0e-4a7c-86b2-87017574feb5",
   "metadata": {},
   "outputs": [],
   "source": [
    "s1.discard(1000)\n"
   ]
  },
  {
   "cell_type": "code",
   "execution_count": 283,
   "id": "a0c738f7-0f82-41a9-957e-5896c91ffaad",
   "metadata": {},
   "outputs": [
    {
     "data": {
      "text/plain": [
       "{3, 13, 47, 90, 100, 200}"
      ]
     },
     "execution_count": 283,
     "metadata": {},
     "output_type": "execute_result"
    }
   ],
   "source": [
    "s1"
   ]
  },
  {
   "cell_type": "code",
   "execution_count": 285,
   "id": "068b85a1-9cf7-48f7-95d1-b7eca99ce7a9",
   "metadata": {},
   "outputs": [],
   "source": [
    "s1.remove(47)"
   ]
  },
  {
   "cell_type": "code",
   "execution_count": 287,
   "id": "80eced9c-e3bd-4e09-80ff-f6d6da973db8",
   "metadata": {},
   "outputs": [
    {
     "data": {
      "text/plain": [
       "{3, 13, 90, 100, 200}"
      ]
     },
     "execution_count": 287,
     "metadata": {},
     "output_type": "execute_result"
    }
   ],
   "source": [
    "s1"
   ]
  },
  {
   "cell_type": "code",
   "execution_count": 291,
   "id": "76c05ad6-cddb-4336-ac2c-96344f98fe2d",
   "metadata": {},
   "outputs": [
    {
     "data": {
      "text/plain": [
       "{3, 13, 90, 100}"
      ]
     },
     "execution_count": 291,
     "metadata": {},
     "output_type": "execute_result"
    }
   ],
   "source": [
    "s1.discard(200)\n",
    "s1"
   ]
  },
  {
   "cell_type": "code",
   "execution_count": 293,
   "id": "d437e87d-bfcc-49af-bec0-e2692f194215",
   "metadata": {},
   "outputs": [
    {
     "name": "stdout",
     "output_type": "stream",
     "text": [
      "3\n",
      "100\n",
      "90\n",
      "13\n"
     ]
    }
   ],
   "source": [
    "for i in s1:\n",
    "    print(i)"
   ]
  },
  {
   "cell_type": "code",
   "execution_count": 295,
   "id": "899dba6d-41a4-4a82-8302-82d297a81d7a",
   "metadata": {},
   "outputs": [
    {
     "data": {
      "text/plain": [
       "{1, 2, 3, 13, 90, 100}"
      ]
     },
     "execution_count": 295,
     "metadata": {},
     "output_type": "execute_result"
    }
   ],
   "source": [
    "s1.update([1,2])\n",
    "s1"
   ]
  },
  {
   "cell_type": "code",
   "execution_count": null,
   "id": "ab37b1b5-02d0-4a25-8213-0dfb307aeeb3",
   "metadata": {},
   "outputs": [],
   "source": [
    "s1."
   ]
  },
  {
   "cell_type": "code",
   "execution_count": null,
   "id": "ce067d92-de00-49c2-825e-bdcea39945bd",
   "metadata": {},
   "outputs": [],
   "source": []
  },
  {
   "cell_type": "code",
   "execution_count": null,
   "id": "b8462079-7f5c-44f9-a9ba-01dc17af436b",
   "metadata": {},
   "outputs": [],
   "source": []
  },
  {
   "cell_type": "code",
   "execution_count": 297,
   "id": "9a4099d6-bdf2-488f-bc44-b0dced0abdda",
   "metadata": {},
   "outputs": [],
   "source": [
    "#23 may 2025\n",
    "A ={1,2,3,4,5}\n",
    "B ={4,5,6,7,8}\n",
    "C ={8,9,10}\n"
   ]
  },
  {
   "cell_type": "code",
   "execution_count": 299,
   "id": "39c240a0-d5af-40fc-8572-aff9bb439852",
   "metadata": {},
   "outputs": [
    {
     "data": {
      "text/plain": [
       "{1, 2, 3, 4, 5, 6, 7, 8, 9, 10}"
      ]
     },
     "execution_count": 299,
     "metadata": {},
     "output_type": "execute_result"
    }
   ],
   "source": [
    "A|B|C   #union"
   ]
  },
  {
   "cell_type": "code",
   "execution_count": 301,
   "id": "efe8d030-f685-42e9-b5c6-58f86df5b571",
   "metadata": {},
   "outputs": [
    {
     "data": {
      "text/plain": [
       "{1, 2, 3, 4, 5, 6, 7, 8}"
      ]
     },
     "execution_count": 301,
     "metadata": {},
     "output_type": "execute_result"
    }
   ],
   "source": [
    "A.union(B)"
   ]
  },
  {
   "cell_type": "code",
   "execution_count": 303,
   "id": "3c02a066-9f92-4603-8dd5-2549b70a3094",
   "metadata": {},
   "outputs": [
    {
     "data": {
      "text/plain": [
       "{4, 5, 6, 7, 8, 9, 10}"
      ]
     },
     "execution_count": 303,
     "metadata": {},
     "output_type": "execute_result"
    }
   ],
   "source": [
    "B.union(C)"
   ]
  },
  {
   "cell_type": "code",
   "execution_count": 305,
   "id": "e529a06b-0c5c-44b8-bd8b-ca9b42c712e6",
   "metadata": {},
   "outputs": [
    {
     "data": {
      "text/plain": [
       "{1, 2, 3, 4, 5, 8, 9, 10}"
      ]
     },
     "execution_count": 305,
     "metadata": {},
     "output_type": "execute_result"
    }
   ],
   "source": [
    "A.union(C)"
   ]
  },
  {
   "cell_type": "code",
   "execution_count": 307,
   "id": "22d83a47-c06e-4b99-89ff-051a3e0fab7e",
   "metadata": {},
   "outputs": [
    {
     "name": "stdout",
     "output_type": "stream",
     "text": [
      "{1, 2, 3, 4, 5}\n",
      "{4, 5, 6, 7, 8}\n",
      "{8, 9, 10}\n"
     ]
    }
   ],
   "source": [
    "print(A)\n",
    "print(B)\n",
    "print(C)"
   ]
  },
  {
   "cell_type": "code",
   "execution_count": 309,
   "id": "40874d63-bacf-4604-a1c3-099e9638144c",
   "metadata": {},
   "outputs": [
    {
     "data": {
      "text/plain": [
       "{4, 5}"
      ]
     },
     "execution_count": 309,
     "metadata": {},
     "output_type": "execute_result"
    }
   ],
   "source": [
    "A.intersection(B)"
   ]
  },
  {
   "cell_type": "code",
   "execution_count": 311,
   "id": "7aa85749-0f0f-4f52-bd93-737dfc4ae69f",
   "metadata": {},
   "outputs": [
    {
     "data": {
      "text/plain": [
       "set()"
      ]
     },
     "execution_count": 311,
     "metadata": {},
     "output_type": "execute_result"
    }
   ],
   "source": [
    "A.intersection(C)"
   ]
  },
  {
   "cell_type": "code",
   "execution_count": 313,
   "id": "18074cf6-1459-4386-8be0-a3c98d6faed3",
   "metadata": {},
   "outputs": [
    {
     "data": {
      "text/plain": [
       "{8}"
      ]
     },
     "execution_count": 313,
     "metadata": {},
     "output_type": "execute_result"
    }
   ],
   "source": [
    "B & C"
   ]
  },
  {
   "cell_type": "code",
   "execution_count": 315,
   "id": "13ac5a26-bfaf-46d3-b2f7-b4bdaddba6a2",
   "metadata": {},
   "outputs": [
    {
     "name": "stdout",
     "output_type": "stream",
     "text": [
      "{1, 2, 3, 4, 5}\n",
      "{4, 5, 6, 7, 8}\n",
      "{8, 9, 10}\n"
     ]
    }
   ],
   "source": [
    "print(A)\n",
    "print(B)\n",
    "print(C)"
   ]
  },
  {
   "cell_type": "code",
   "execution_count": 317,
   "id": "61ef3cc5-2a36-4d57-969c-02f7779c33cd",
   "metadata": {},
   "outputs": [
    {
     "data": {
      "text/plain": [
       "{1, 2, 3}"
      ]
     },
     "execution_count": 317,
     "metadata": {},
     "output_type": "execute_result"
    }
   ],
   "source": [
    "A - B"
   ]
  },
  {
   "cell_type": "code",
   "execution_count": 319,
   "id": "075c6f9c-eab1-4d5b-8233-052c6c80c006",
   "metadata": {},
   "outputs": [
    {
     "data": {
      "text/plain": [
       "{4, 5, 6, 7}"
      ]
     },
     "execution_count": 319,
     "metadata": {},
     "output_type": "execute_result"
    }
   ],
   "source": [
    "B.difference(C)"
   ]
  },
  {
   "cell_type": "code",
   "execution_count": 321,
   "id": "72b19121-a16d-454e-a82f-a0372394c3ef",
   "metadata": {},
   "outputs": [
    {
     "data": {
      "text/plain": [
       "{9, 10}"
      ]
     },
     "execution_count": 321,
     "metadata": {},
     "output_type": "execute_result"
    }
   ],
   "source": [
    "C.difference(B)"
   ]
  },
  {
   "cell_type": "code",
   "execution_count": 323,
   "id": "6ff633a9-a67c-4580-b4ab-f6352fa3a06b",
   "metadata": {},
   "outputs": [
    {
     "data": {
      "text/plain": [
       "{1, 2, 3, 6, 7, 8}"
      ]
     },
     "execution_count": 323,
     "metadata": {},
     "output_type": "execute_result"
    }
   ],
   "source": [
    "A.symmetric_difference(B)"
   ]
  },
  {
   "cell_type": "code",
   "execution_count": 325,
   "id": "76de0157-6256-477c-b44b-97779edce0c9",
   "metadata": {},
   "outputs": [
    {
     "data": {
      "text/plain": [
       "{1, 2, 3}"
      ]
     },
     "execution_count": 325,
     "metadata": {},
     "output_type": "execute_result"
    }
   ],
   "source": [
    "A.difference(B)"
   ]
  },
  {
   "cell_type": "code",
   "execution_count": 327,
   "id": "0bbb0abc-d6ee-4dc4-9761-f82b90804f7a",
   "metadata": {},
   "outputs": [
    {
     "data": {
      "text/plain": [
       "{4, 5, 6, 7, 9, 10}"
      ]
     },
     "execution_count": 327,
     "metadata": {},
     "output_type": "execute_result"
    }
   ],
   "source": [
    "B ^ C"
   ]
  },
  {
   "cell_type": "code",
   "execution_count": 329,
   "id": "299e7d6c-1046-4d2f-b5da-76eb391eaec4",
   "metadata": {},
   "outputs": [
    {
     "name": "stdout",
     "output_type": "stream",
     "text": [
      "{1, 2, 3, 4, 5}\n",
      "{4, 5, 6, 7, 8}\n",
      "{8, 9, 10}\n"
     ]
    }
   ],
   "source": [
    "print(A)\n",
    "print(B)\n",
    "print(C)"
   ]
  },
  {
   "cell_type": "code",
   "execution_count": 331,
   "id": "66ee2799-1b9b-4d5b-9d2e-16992bc6707e",
   "metadata": {},
   "outputs": [
    {
     "data": {
      "text/plain": [
       "5"
      ]
     },
     "execution_count": 331,
     "metadata": {},
     "output_type": "execute_result"
    }
   ],
   "source": [
    "len(A)"
   ]
  },
  {
   "cell_type": "code",
   "execution_count": 333,
   "id": "c34c0c93-732d-4977-99ea-edb345a86b63",
   "metadata": {},
   "outputs": [],
   "source": [
    "A.symmetric_difference_update(B)"
   ]
  },
  {
   "cell_type": "code",
   "execution_count": 335,
   "id": "565c42da-aeb2-459c-9f62-3dc5fa103f10",
   "metadata": {},
   "outputs": [
    {
     "data": {
      "text/plain": [
       "{1, 2, 3, 6, 7, 8}"
      ]
     },
     "execution_count": 335,
     "metadata": {},
     "output_type": "execute_result"
    }
   ],
   "source": [
    "A"
   ]
  },
  {
   "cell_type": "code",
   "execution_count": 337,
   "id": "de543225-cfce-4f48-b61b-152942fc4def",
   "metadata": {},
   "outputs": [],
   "source": [
    "B.symmetric_difference_update(C)"
   ]
  },
  {
   "cell_type": "code",
   "execution_count": 339,
   "id": "a28214eb-9665-4729-9db7-049184619a55",
   "metadata": {},
   "outputs": [
    {
     "data": {
      "text/plain": [
       "{4, 5, 6, 7, 9, 10}"
      ]
     },
     "execution_count": 339,
     "metadata": {},
     "output_type": "execute_result"
    }
   ],
   "source": [
    "B"
   ]
  },
  {
   "cell_type": "code",
   "execution_count": null,
   "id": "88427af5-2450-4bbb-9acd-4516475634bc",
   "metadata": {},
   "outputs": [],
   "source": [
    "A1 = {1,2,3,4,5,6,7,8,9)\n",
    "B1 = {3,4,5,6,7,8}\n",
    "C1 = {10,20,30,40}\n"
   ]
  },
  {
   "cell_type": "code",
   "execution_count": null,
   "id": "6a73e0c4-5409-4b1b-876f-ae4d767f08cc",
   "metadata": {},
   "outputs": [],
   "source": []
  },
  {
   "cell_type": "code",
   "execution_count": null,
   "id": "29382c4f-1afd-4da1-b550-8a15b6e627f0",
   "metadata": {},
   "outputs": [],
   "source": []
  },
  {
   "cell_type": "code",
   "execution_count": 341,
   "id": "583b56c2-a49a-4eed-b5d0-614d060e96aa",
   "metadata": {},
   "outputs": [
    {
     "data": {
      "text/plain": [
       "{}"
      ]
     },
     "execution_count": 341,
     "metadata": {},
     "output_type": "execute_result"
    }
   ],
   "source": [
    "#dictionary\n",
    "d ={}\n",
    "d\n"
   ]
  },
  {
   "cell_type": "code",
   "execution_count": 343,
   "id": "d1784c5f-f5eb-416e-8b03-9b47ad82d103",
   "metadata": {},
   "outputs": [
    {
     "data": {
      "text/plain": [
       "dict"
      ]
     },
     "execution_count": 343,
     "metadata": {},
     "output_type": "execute_result"
    }
   ],
   "source": [
    "type(d)"
   ]
  },
  {
   "cell_type": "code",
   "execution_count": null,
   "id": "179b74ae-d107-42cd-b52c-c9b62d271c1f",
   "metadata": {},
   "outputs": [],
   "source": []
  },
  {
   "cell_type": "code",
   "execution_count": 345,
   "id": "c026f264-5aad-4a89-953a-c43c32c987d0",
   "metadata": {},
   "outputs": [
    {
     "data": {
      "text/plain": [
       "{'Name': 'Ronieta',\n",
       " 'ID': 12345,\n",
       " 'DOB': 1991,\n",
       " 'Address': 'Hilsinki',\n",
       " 'Job': 'Python Developer'}"
      ]
     },
     "execution_count": 345,
     "metadata": {},
     "output_type": "execute_result"
    }
   ],
   "source": [
    "mydict1 = {'Name':'Ronieta' , 'ID': 12345 , 'DOB': 1991 , 'Address' : 'Hilsinki', 'Job': 'Python Developer'}\n",
    "mydict1"
   ]
  },
  {
   "cell_type": "code",
   "execution_count": 349,
   "id": "6786d203-aede-4e9c-a301-a0262de57027",
   "metadata": {},
   "outputs": [
    {
     "name": "stdout",
     "output_type": "stream",
     "text": [
      "Name : Ronieta\n",
      "ID : 12345\n",
      "DOB : 1991\n",
      "Address : Hilsinki\n",
      "Job : Python Developer\n"
     ]
    }
   ],
   "source": [
    "for i in mydict1: \n",
    "    print(i,':',mydict1[i])"
   ]
  },
  {
   "cell_type": "code",
   "execution_count": null,
   "id": "2142ae23-4cfc-417c-8098-b3f3ae314831",
   "metadata": {},
   "outputs": [],
   "source": []
  },
  {
   "cell_type": "code",
   "execution_count": 351,
   "id": "c78ebf06-4cbf-4e22-aee7-8bd36d7796d9",
   "metadata": {},
   "outputs": [
    {
     "data": {
      "text/plain": [
       "range(0, 5)"
      ]
     },
     "execution_count": 351,
     "metadata": {},
     "output_type": "execute_result"
    }
   ],
   "source": [
    "#24 may 2025\n",
    "#range\n",
    "range (5)\n"
   ]
  },
  {
   "cell_type": "code",
   "execution_count": 353,
   "id": "56398398-799c-4792-9af6-7957562340f8",
   "metadata": {},
   "outputs": [
    {
     "data": {
      "text/plain": [
       "[0, 1, 2, 3, 4]"
      ]
     },
     "execution_count": 353,
     "metadata": {},
     "output_type": "execute_result"
    }
   ],
   "source": [
    "list(range(0,5))"
   ]
  },
  {
   "cell_type": "code",
   "execution_count": 355,
   "id": "65c12ca6-220c-4aa0-9126-f152589c9b1f",
   "metadata": {},
   "outputs": [
    {
     "data": {
      "text/plain": [
       "range(10, 20)"
      ]
     },
     "execution_count": 355,
     "metadata": {},
     "output_type": "execute_result"
    }
   ],
   "source": [
    "range(10,20)"
   ]
  },
  {
   "cell_type": "code",
   "execution_count": 357,
   "id": "f1d5c9b3-46a9-4f8f-8a6d-2e7f949a22dc",
   "metadata": {},
   "outputs": [
    {
     "data": {
      "text/plain": [
       "[10, 11, 12, 13, 14, 15, 16, 17, 18, 19]"
      ]
     },
     "execution_count": 357,
     "metadata": {},
     "output_type": "execute_result"
    }
   ],
   "source": [
    "list(range(10,20))"
   ]
  },
  {
   "cell_type": "code",
   "execution_count": 365,
   "id": "b1884bea-6054-4694-be90-b42e94a08eb4",
   "metadata": {},
   "outputs": [
    {
     "data": {
      "text/plain": [
       "[10, 15]"
      ]
     },
     "execution_count": 365,
     "metadata": {},
     "output_type": "execute_result"
    }
   ],
   "source": [
    "list(range(10,20,5))"
   ]
  },
  {
   "cell_type": "code",
   "execution_count": 361,
   "id": "751c4631-656c-464e-99ca-b629d1e1227a",
   "metadata": {},
   "outputs": [
    {
     "data": {
      "text/plain": [
       "range(10, 20, 3)"
      ]
     },
     "execution_count": 361,
     "metadata": {},
     "output_type": "execute_result"
    }
   ],
   "source": [
    "range(10,20,3)"
   ]
  },
  {
   "cell_type": "code",
   "execution_count": 367,
   "id": "fab17ac2-0271-4d6f-b642-c1f5514ba23e",
   "metadata": {},
   "outputs": [
    {
     "ename": "TypeError",
     "evalue": "range expected at most 3 arguments, got 4",
     "output_type": "error",
     "traceback": [
      "\u001b[1;31m---------------------------------------------------------------------------\u001b[0m",
      "\u001b[1;31mTypeError\u001b[0m                                 Traceback (most recent call last)",
      "Cell \u001b[1;32mIn[367], line 1\u001b[0m\n\u001b[1;32m----> 1\u001b[0m \u001b[38;5;28mrange\u001b[39m(\u001b[38;5;241m10\u001b[39m,\u001b[38;5;241m20\u001b[39m,\u001b[38;5;241m3\u001b[39m,\u001b[38;5;241m4\u001b[39m)\n",
      "\u001b[1;31mTypeError\u001b[0m: range expected at most 3 arguments, got 4"
     ]
    }
   ],
   "source": [
    "range(10,20,3,4)"
   ]
  },
  {
   "cell_type": "code",
   "execution_count": 369,
   "id": "73d3cc70-99be-49af-b90d-5d1196ce8969",
   "metadata": {},
   "outputs": [],
   "source": []
  },
  {
   "cell_type": "raw",
   "id": "05467eda-746d-4c3f-b0da-89833c6d87ef",
   "metadata": {},
   "source": [
    "r = range(0,11,5)\n",
    "r"
   ]
  },
  {
   "cell_type": "code",
   "execution_count": 371,
   "id": "0cc75fc1-f4de-4f59-81f8-e9ccf49f50f5",
   "metadata": {},
   "outputs": [
    {
     "name": "stdout",
     "output_type": "stream",
     "text": [
      "0\n",
      "5\n",
      "10\n"
     ]
    }
   ],
   "source": [
    "for i in r:\n",
    "    print(i)"
   ]
  },
  {
   "cell_type": "code",
   "execution_count": 373,
   "id": "20e1066a-6249-4466-998b-4f72bc786d72",
   "metadata": {},
   "outputs": [
    {
     "data": {
      "text/plain": [
       "[0, 5, 10]"
      ]
     },
     "execution_count": 373,
     "metadata": {},
     "output_type": "execute_result"
    }
   ],
   "source": [
    "list(r)"
   ]
  },
  {
   "cell_type": "code",
   "execution_count": 375,
   "id": "8d7a8dd5-1da0-4aaf-a744-3a8467c201ea",
   "metadata": {},
   "outputs": [],
   "source": [
    "l = ['a','b','c',1,2.2,45,True,1+2j]"
   ]
  },
  {
   "cell_type": "code",
   "execution_count": 377,
   "id": "c4d1a92d-11a2-4e26-9a54-aa8722435aac",
   "metadata": {},
   "outputs": [
    {
     "data": {
      "text/plain": [
       "['a', 'b', 'c', 1, 2.2, 45, True, (1+2j)]"
      ]
     },
     "execution_count": 377,
     "metadata": {},
     "output_type": "execute_result"
    }
   ],
   "source": [
    "l"
   ]
  },
  {
   "cell_type": "code",
   "execution_count": 379,
   "id": "34e0b60a-beca-41dc-a896-d6e77e26ca54",
   "metadata": {},
   "outputs": [
    {
     "data": {
      "text/plain": [
       "['a', 'b', 'c', 1, 2.2, 45, True, (1+2j)]"
      ]
     },
     "execution_count": 379,
     "metadata": {},
     "output_type": "execute_result"
    }
   ],
   "source": [
    "l[:]"
   ]
  },
  {
   "cell_type": "code",
   "execution_count": 381,
   "id": "0eaf99d9-2cd5-4964-a2a8-cfc4265a2e6b",
   "metadata": {},
   "outputs": [
    {
     "data": {
      "text/plain": [
       "[1, 2.2, 45, True, (1+2j)]"
      ]
     },
     "execution_count": 381,
     "metadata": {},
     "output_type": "execute_result"
    }
   ],
   "source": [
    "l[3:]"
   ]
  },
  {
   "cell_type": "code",
   "execution_count": 383,
   "id": "a7b5cfb4-6391-4266-9d1b-dc14bdb1489c",
   "metadata": {},
   "outputs": [
    {
     "data": {
      "text/plain": [
       "[1, 2.2, 45, True, (1+2j)]"
      ]
     },
     "execution_count": 383,
     "metadata": {},
     "output_type": "execute_result"
    }
   ],
   "source": [
    "l[-5:]"
   ]
  },
  {
   "cell_type": "code",
   "execution_count": 385,
   "id": "25678fb8-5040-47cc-b469-9f568b9868c1",
   "metadata": {},
   "outputs": [
    {
     "data": {
      "text/plain": [
       "45"
      ]
     },
     "execution_count": 385,
     "metadata": {},
     "output_type": "execute_result"
    }
   ],
   "source": [
    "l[5]    #forward indexing"
   ]
  },
  {
   "cell_type": "code",
   "execution_count": 387,
   "id": "189a34cf-8424-4b9e-a3be-7eabd6b9bbbc",
   "metadata": {},
   "outputs": [
    {
     "data": {
      "text/plain": [
       "1"
      ]
     },
     "execution_count": 387,
     "metadata": {},
     "output_type": "execute_result"
    }
   ],
   "source": [
    "l[-5]"
   ]
  },
  {
   "cell_type": "code",
   "execution_count": 389,
   "id": "31183548-35f3-487e-891e-2addbd21f1e3",
   "metadata": {},
   "outputs": [
    {
     "data": {
      "text/plain": [
       "['c', 2.2, True]"
      ]
     },
     "execution_count": 389,
     "metadata": {},
     "output_type": "execute_result"
    }
   ],
   "source": [
    "l[2:7:2]  #step slicing"
   ]
  },
  {
   "cell_type": "code",
   "execution_count": 391,
   "id": "ca1415df-c81b-494e-a567-9d311f86c3a6",
   "metadata": {},
   "outputs": [
    {
     "data": {
      "text/plain": [
       "['a', 45]"
      ]
     },
     "execution_count": 391,
     "metadata": {},
     "output_type": "execute_result"
    }
   ],
   "source": [
    "l[0:7:5]"
   ]
  },
  {
   "cell_type": "code",
   "execution_count": 397,
   "id": "61c9f246-742c-4acd-b040-0d8b6cd134d3",
   "metadata": {},
   "outputs": [
    {
     "data": {
      "text/plain": [
       "[1, 2.2]"
      ]
     },
     "execution_count": 397,
     "metadata": {},
     "output_type": "execute_result"
    }
   ],
   "source": [
    "l[-5:-3]"
   ]
  },
  {
   "cell_type": "code",
   "execution_count": 399,
   "id": "3c49e050-0864-4d07-a158-6e9a4353e02a",
   "metadata": {},
   "outputs": [
    {
     "data": {
      "text/plain": [
       "['a', 'b', 'c', 1, 2.2, 45, True, (1+2j)]"
      ]
     },
     "execution_count": 399,
     "metadata": {},
     "output_type": "execute_result"
    }
   ],
   "source": [
    "l"
   ]
  },
  {
   "cell_type": "code",
   "execution_count": 403,
   "id": "49045b39-0626-415e-b4d3-ac82ad57834c",
   "metadata": {},
   "outputs": [],
   "source": [
    "s = ['sbi','icic','hdfc','central','union','canara','city']"
   ]
  },
  {
   "cell_type": "code",
   "execution_count": 405,
   "id": "dd344f82-e096-486f-9a54-650d4826f42e",
   "metadata": {},
   "outputs": [
    {
     "data": {
      "text/plain": [
       "['sbi', 'icic', 'hdfc', 'central', 'union', 'canara', 'city']"
      ]
     },
     "execution_count": 405,
     "metadata": {},
     "output_type": "execute_result"
    }
   ],
   "source": [
    "s"
   ]
  },
  {
   "cell_type": "code",
   "execution_count": 407,
   "id": "6c1547c5-1e6c-43bd-a420-7ce34931ef94",
   "metadata": {},
   "outputs": [
    {
     "data": {
      "text/plain": [
       "7"
      ]
     },
     "execution_count": 407,
     "metadata": {},
     "output_type": "execute_result"
    }
   ],
   "source": [
    "len(s)"
   ]
  },
  {
   "cell_type": "code",
   "execution_count": 409,
   "id": "a0ceb887-2f99-4d84-bdfa-bb12ad5079f2",
   "metadata": {},
   "outputs": [
    {
     "data": {
      "text/plain": [
       "'city'"
      ]
     },
     "execution_count": 409,
     "metadata": {},
     "output_type": "execute_result"
    }
   ],
   "source": [
    "s[6]"
   ]
  },
  {
   "cell_type": "code",
   "execution_count": 411,
   "id": "31a7c464-39eb-4a8b-a132-a9b8f25d0719",
   "metadata": {},
   "outputs": [
    {
     "data": {
      "text/plain": [
       "['sbi', 'icic', 'hdfc', 'central', 'union', 'canara']"
      ]
     },
     "execution_count": 411,
     "metadata": {},
     "output_type": "execute_result"
    }
   ],
   "source": [
    "s[-7:-1]"
   ]
  },
  {
   "cell_type": "code",
   "execution_count": 413,
   "id": "9bc2ef42-582c-46cb-a6f8-1e94a2a1eb3c",
   "metadata": {},
   "outputs": [
    {
     "data": {
      "text/plain": [
       "['city', 'canara', 'union', 'central', 'hdfc', 'icic', 'sbi']"
      ]
     },
     "execution_count": 413,
     "metadata": {},
     "output_type": "execute_result"
    }
   ],
   "source": [
    "s[::-1]"
   ]
  },
  {
   "cell_type": "code",
   "execution_count": 415,
   "id": "f153144b-b2b7-405a-acc1-be291e799823",
   "metadata": {},
   "outputs": [
    {
     "data": {
      "text/plain": [
       "['city', 'union', 'hdfc', 'sbi']"
      ]
     },
     "execution_count": 415,
     "metadata": {},
     "output_type": "execute_result"
    }
   ],
   "source": [
    "s[::-2]"
   ]
  },
  {
   "cell_type": "code",
   "execution_count": 417,
   "id": "cdc373e7-a93f-40f9-8206-c6e31a26a356",
   "metadata": {},
   "outputs": [
    {
     "data": {
      "text/plain": [
       "['city', 'icic']"
      ]
     },
     "execution_count": 417,
     "metadata": {},
     "output_type": "execute_result"
    }
   ],
   "source": [
    "s[::-5]"
   ]
  },
  {
   "cell_type": "code",
   "execution_count": null,
   "id": "19478710-421c-400d-b573-7d8b14ca19fc",
   "metadata": {},
   "outputs": [],
   "source": [
    "#27 may 2025\n",
    "name = 'fine'\n"
   ]
  },
  {
   "cell_type": "code",
   "execution_count": 419,
   "id": "82d819da-468e-4d34-bd1b-637a808ba643",
   "metadata": {},
   "outputs": [
    {
     "data": {
      "text/plain": [
       "32"
      ]
     },
     "execution_count": 419,
     "metadata": {},
     "output_type": "execute_result"
    }
   ],
   "source": [
    "35 & 40"
   ]
  },
  {
   "cell_type": "code",
   "execution_count": 421,
   "id": "99cdb538-c0b2-4d97-ae21-2dd7dc72ed3c",
   "metadata": {},
   "outputs": [
    {
     "data": {
      "text/plain": [
       "43"
      ]
     },
     "execution_count": 421,
     "metadata": {},
     "output_type": "execute_result"
    }
   ],
   "source": [
    "35 | 40"
   ]
  },
  {
   "cell_type": "code",
   "execution_count": 423,
   "id": "a8dd68ac-e6e5-4e9c-8aa3-988d19447ea1",
   "metadata": {},
   "outputs": [
    {
     "data": {
      "text/plain": [
       "'0b100011'"
      ]
     },
     "execution_count": 423,
     "metadata": {},
     "output_type": "execute_result"
    }
   ],
   "source": [
    "bin(35)"
   ]
  },
  {
   "cell_type": "code",
   "execution_count": 425,
   "id": "05c4afa0-40bf-48b1-810b-d3ceb649d777",
   "metadata": {},
   "outputs": [
    {
     "data": {
      "text/plain": [
       "'0b101000'"
      ]
     },
     "execution_count": 425,
     "metadata": {},
     "output_type": "execute_result"
    }
   ],
   "source": [
    "bin(40)"
   ]
  },
  {
   "cell_type": "code",
   "execution_count": 427,
   "id": "81cf852f-4109-433b-8054-a83473d9abf4",
   "metadata": {},
   "outputs": [
    {
     "data": {
      "text/plain": [
       "'0b101011'"
      ]
     },
     "execution_count": 427,
     "metadata": {},
     "output_type": "execute_result"
    }
   ],
   "source": [
    "bin(43)"
   ]
  },
  {
   "cell_type": "code",
   "execution_count": 429,
   "id": "789acbae-3691-478d-ad0a-f2d2c71b4994",
   "metadata": {},
   "outputs": [
    {
     "data": {
      "text/plain": [
       "7"
      ]
     },
     "execution_count": 429,
     "metadata": {},
     "output_type": "execute_result"
    }
   ],
   "source": [
    "25 ^ 30"
   ]
  },
  {
   "cell_type": "code",
   "execution_count": 431,
   "id": "d84a5d0f-0658-436f-bc00-ee6710960fe6",
   "metadata": {},
   "outputs": [
    {
     "data": {
      "text/plain": [
       "'0b111'"
      ]
     },
     "execution_count": 431,
     "metadata": {},
     "output_type": "execute_result"
    }
   ],
   "source": [
    "bin(7)"
   ]
  },
  {
   "cell_type": "code",
   "execution_count": 433,
   "id": "07ec6795-7d34-40f1-8bc6-71840921d96d",
   "metadata": {},
   "outputs": [
    {
     "data": {
      "text/plain": [
       "40"
      ]
     },
     "execution_count": 433,
     "metadata": {},
     "output_type": "execute_result"
    }
   ],
   "source": [
    "10 <<2"
   ]
  },
  {
   "cell_type": "code",
   "execution_count": 435,
   "id": "b5cea7ad-2a87-4a6d-b70d-6692d33d50b9",
   "metadata": {},
   "outputs": [
    {
     "data": {
      "text/plain": [
       "20"
      ]
     },
     "execution_count": 435,
     "metadata": {},
     "output_type": "execute_result"
    }
   ],
   "source": [
    "10 << 1"
   ]
  },
  {
   "cell_type": "code",
   "execution_count": 437,
   "id": "ca254bd3-b40d-4652-961d-20ddd110a92f",
   "metadata": {},
   "outputs": [
    {
     "data": {
      "text/plain": [
       "2"
      ]
     },
     "execution_count": 437,
     "metadata": {},
     "output_type": "execute_result"
    }
   ],
   "source": [
    "10>>2"
   ]
  },
  {
   "cell_type": "code",
   "execution_count": 439,
   "id": "3e4364ed-4267-43cf-a100-60f73c75e13d",
   "metadata": {},
   "outputs": [
    {
     "data": {
      "text/plain": [
       "1"
      ]
     },
     "execution_count": 439,
     "metadata": {},
     "output_type": "execute_result"
    }
   ],
   "source": [
    "20 >> 4"
   ]
  },
  {
   "cell_type": "code",
   "execution_count": 441,
   "id": "225e9235-1990-49aa-a6eb-b1c383eee52f",
   "metadata": {},
   "outputs": [
    {
     "data": {
      "text/plain": [
       "160"
      ]
     },
     "execution_count": 441,
     "metadata": {},
     "output_type": "execute_result"
    }
   ],
   "source": [
    "20 << 3"
   ]
  },
  {
   "cell_type": "code",
   "execution_count": 443,
   "id": "c1ddb203-8150-4d05-b41b-3acf5d7dd872",
   "metadata": {},
   "outputs": [],
   "source": [
    "import math as m"
   ]
  },
  {
   "cell_type": "code",
   "execution_count": 445,
   "id": "817139cc-9ef8-4d92-ac52-7bfd4c56e376",
   "metadata": {},
   "outputs": [
    {
     "data": {
      "text/plain": [
       "5.0"
      ]
     },
     "execution_count": 445,
     "metadata": {},
     "output_type": "execute_result"
    }
   ],
   "source": [
    "m.sqrt(25)"
   ]
  },
  {
   "cell_type": "code",
   "execution_count": null,
   "id": "4b1b611d-3f9f-4d89-af67-f0af5a195fbd",
   "metadata": {},
   "outputs": [],
   "source": [
    "\n",
    "#29 may 2025\n"
   ]
  },
  {
   "cell_type": "code",
   "execution_count": null,
   "id": "47c25c9d-171c-45de-91e0-10c88d62dbd6",
   "metadata": {},
   "outputs": [],
   "source": []
  },
  {
   "cell_type": "code",
   "execution_count": null,
   "id": "f0933387-4c51-4fc2-a0c2-e062835e86c8",
   "metadata": {},
   "outputs": [],
   "source": []
  },
  {
   "cell_type": "code",
   "execution_count": null,
   "id": "9f5a2c34-6c35-4ba1-ae74-bd64948531af",
   "metadata": {},
   "outputs": [],
   "source": []
  },
  {
   "cell_type": "code",
   "execution_count": null,
   "id": "1c0c4582-dcd7-4bde-93dd-3883cbf73409",
   "metadata": {},
   "outputs": [],
   "source": []
  }
 ],
 "metadata": {
  "kernelspec": {
   "display_name": "Python 3 (ipykernel)",
   "language": "python",
   "name": "python3"
  },
  "language_info": {
   "codemirror_mode": {
    "name": "ipython",
    "version": 3
   },
   "file_extension": ".py",
   "mimetype": "text/x-python",
   "name": "python",
   "nbconvert_exporter": "python",
   "pygments_lexer": "ipython3",
   "version": "3.12.7"
  }
 },
 "nbformat": 4,
 "nbformat_minor": 5
}
